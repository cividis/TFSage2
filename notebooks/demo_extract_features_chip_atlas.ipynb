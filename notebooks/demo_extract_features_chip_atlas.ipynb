{
 "cells": [
  {
   "cell_type": "code",
   "execution_count": 1,
   "metadata": {},
   "outputs": [],
   "source": [
    "# Import necessary libraries\n",
    "from tfsage.features import load_region_set, extract_features_chip_atlas"
   ]
  },
  {
   "cell_type": "code",
   "execution_count": 2,
   "metadata": {},
   "outputs": [],
   "source": [
    "# Load the gene location set\n",
    "gene_loc_set = load_region_set(\"hg38\")"
   ]
  },
  {
   "cell_type": "code",
   "execution_count": 3,
   "metadata": {},
   "outputs": [],
   "source": [
    "# Define the path to the merged BED file and the list of individual names\n",
    "# Download: https://github.com/inutano/chip-atlas/wiki#assembled-peak-call-data-used-in-peak-browser\n",
    "bed_file = \"../allPeaks_light.hg38.50.bed\"\n",
    "individual_names = [\"SRX502813\", \"SRX9029191\", \"SRX9029192\"]"
   ]
  },
  {
   "cell_type": "code",
   "execution_count": 4,
   "metadata": {},
   "outputs": [
    {
     "name": "stderr",
     "output_type": "stream",
     "text": [
      "100%|██████████| 3/3 [00:00<00:00,  9.79it/s]\n"
     ]
    }
   ],
   "source": [
    "# Extract features using the extract_features_chip_atlas function\n",
    "# This takes a while to run the first time\n",
    "df = extract_features_chip_atlas(\n",
    "    bed_file, individual_names, gene_loc_set, data_dir=\"../data\"\n",
    ")\n",
    "df.columns = individual_names"
   ]
  },
  {
   "cell_type": "code",
   "execution_count": 5,
   "metadata": {},
   "outputs": [
    {
     "data": {
      "text/html": [
       "<div>\n",
       "<style scoped>\n",
       "    .dataframe tbody tr th:only-of-type {\n",
       "        vertical-align: middle;\n",
       "    }\n",
       "\n",
       "    .dataframe tbody tr th {\n",
       "        vertical-align: top;\n",
       "    }\n",
       "\n",
       "    .dataframe thead th {\n",
       "        text-align: right;\n",
       "    }\n",
       "</style>\n",
       "<table border=\"1\" class=\"dataframe\">\n",
       "  <thead>\n",
       "    <tr style=\"text-align: right;\">\n",
       "      <th></th>\n",
       "      <th>SRX502813</th>\n",
       "      <th>SRX9029191</th>\n",
       "      <th>SRX9029192</th>\n",
       "    </tr>\n",
       "  </thead>\n",
       "  <tbody>\n",
       "    <tr>\n",
       "      <th>NR_046018:DDX11L1</th>\n",
       "      <td>1.087330</td>\n",
       "      <td>0.882397</td>\n",
       "      <td>0.882887</td>\n",
       "    </tr>\n",
       "    <tr>\n",
       "      <th>NR_106918:MIR6859-1</th>\n",
       "      <td>0.899921</td>\n",
       "      <td>0.600069</td>\n",
       "      <td>0.600402</td>\n",
       "    </tr>\n",
       "    <tr>\n",
       "      <th>NR_107062:MIR6859-2</th>\n",
       "      <td>0.899921</td>\n",
       "      <td>0.600069</td>\n",
       "      <td>0.600402</td>\n",
       "    </tr>\n",
       "    <tr>\n",
       "      <th>NR_024540:WASH7P</th>\n",
       "      <td>0.945741</td>\n",
       "      <td>0.262393</td>\n",
       "      <td>0.262538</td>\n",
       "    </tr>\n",
       "    <tr>\n",
       "      <th>NR_036051:MIR1302-2</th>\n",
       "      <td>0.976968</td>\n",
       "      <td>0.244906</td>\n",
       "      <td>0.245042</td>\n",
       "    </tr>\n",
       "    <tr>\n",
       "      <th>...</th>\n",
       "      <td>...</td>\n",
       "      <td>...</td>\n",
       "      <td>...</td>\n",
       "    </tr>\n",
       "    <tr>\n",
       "      <th>NR_033714:VAMP7</th>\n",
       "      <td>0.000000</td>\n",
       "      <td>0.000000</td>\n",
       "      <td>0.000000</td>\n",
       "    </tr>\n",
       "    <tr>\n",
       "      <th>NM_001145149:VAMP7</th>\n",
       "      <td>0.000000</td>\n",
       "      <td>0.000000</td>\n",
       "      <td>0.000000</td>\n",
       "    </tr>\n",
       "    <tr>\n",
       "      <th>NM_176786:IL9R</th>\n",
       "      <td>0.000000</td>\n",
       "      <td>0.000000</td>\n",
       "      <td>0.000000</td>\n",
       "    </tr>\n",
       "    <tr>\n",
       "      <th>NM_002186:IL9R</th>\n",
       "      <td>0.000000</td>\n",
       "      <td>0.000000</td>\n",
       "      <td>0.000000</td>\n",
       "    </tr>\n",
       "    <tr>\n",
       "      <th>NR_110561:DDX11L16</th>\n",
       "      <td>0.000000</td>\n",
       "      <td>0.000000</td>\n",
       "      <td>0.000000</td>\n",
       "    </tr>\n",
       "  </tbody>\n",
       "</table>\n",
       "<p>56649 rows × 3 columns</p>\n",
       "</div>"
      ],
      "text/plain": [
       "                     SRX502813  SRX9029191  SRX9029192\n",
       "NR_046018:DDX11L1     1.087330    0.882397    0.882887\n",
       "NR_106918:MIR6859-1   0.899921    0.600069    0.600402\n",
       "NR_107062:MIR6859-2   0.899921    0.600069    0.600402\n",
       "NR_024540:WASH7P      0.945741    0.262393    0.262538\n",
       "NR_036051:MIR1302-2   0.976968    0.244906    0.245042\n",
       "...                        ...         ...         ...\n",
       "NR_033714:VAMP7       0.000000    0.000000    0.000000\n",
       "NM_001145149:VAMP7    0.000000    0.000000    0.000000\n",
       "NM_176786:IL9R        0.000000    0.000000    0.000000\n",
       "NM_002186:IL9R        0.000000    0.000000    0.000000\n",
       "NR_110561:DDX11L16    0.000000    0.000000    0.000000\n",
       "\n",
       "[56649 rows x 3 columns]"
      ]
     },
     "execution_count": 5,
     "metadata": {},
     "output_type": "execute_result"
    }
   ],
   "source": [
    "# Display the resulting DataFrame\n",
    "df"
   ]
  }
 ],
 "metadata": {
  "kernelspec": {
   "display_name": "tfsage_env",
   "language": "python",
   "name": "python3"
  },
  "language_info": {
   "codemirror_mode": {
    "name": "ipython",
    "version": 3
   },
   "file_extension": ".py",
   "mimetype": "text/x-python",
   "name": "python",
   "nbconvert_exporter": "python",
   "pygments_lexer": "ipython3",
   "version": "3.13.2"
  }
 },
 "nbformat": 4,
 "nbformat_minor": 2
}
