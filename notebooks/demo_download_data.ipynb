{
 "cells": [
  {
   "cell_type": "code",
   "execution_count": 1,
   "metadata": {},
   "outputs": [],
   "source": [
    "# Import necessary libraries\n",
    "import os\n",
    "from tfsage.download import download_chip_atlas, download_encode"
   ]
  },
  {
   "cell_type": "code",
   "execution_count": 2,
   "metadata": {},
   "outputs": [],
   "source": [
    "# Create a directory to download the data\n",
    "os.makedirs(\"../downloads\", exist_ok=True)"
   ]
  },
  {
   "cell_type": "code",
   "execution_count": 3,
   "metadata": {},
   "outputs": [
    {
     "name": "stderr",
     "output_type": "stream",
     "text": [
      "  % Total    % Received % Xferd  Average Speed   Time    Time     Time  Current\n",
      "                                 Dload  Upload   Total   Spent    Left  Speed\n",
      "100 3490k  100 3490k    0     0  1379k      0  0:00:02  0:00:02 --:--:-- 1380k\n"
     ]
    }
   ],
   "source": [
    "# Example for ChIP-Atlas download\n",
    "download_chip_atlas(\"SRX502813\", \"../downloads/SRX502813.bed\")"
   ]
  },
  {
   "cell_type": "code",
   "execution_count": 4,
   "metadata": {},
   "outputs": [
    {
     "name": "stderr",
     "output_type": "stream",
     "text": [
      "  % Total    % Received % Xferd  Average Speed   Time    Time     Time  Current\n",
      "                                 Dload  Upload   Total   Spent    Left  Speed\n",
      "100  1915  100  1915    0     0   4092      0 --:--:-- --:--:-- --:--:--  4100\n",
      "100  773k  100  773k    0     0   653k      0  0:00:01  0:00:01 --:--:-- 1311k\n"
     ]
    }
   ],
   "source": [
    "# Example for ENCODE download\n",
    "download_encode(\"ENCFF729IPL\", \"../downloads/ENCFF729IPL.bed\")"
   ]
  }
 ],
 "metadata": {
  "kernelspec": {
   "display_name": "tfsage_env",
   "language": "python",
   "name": "python3"
  },
  "language_info": {
   "codemirror_mode": {
    "name": "ipython",
    "version": 3
   },
   "file_extension": ".py",
   "mimetype": "text/x-python",
   "name": "python",
   "nbconvert_exporter": "python",
   "pygments_lexer": "ipython3",
   "version": "3.13.2"
  }
 },
 "nbformat": 4,
 "nbformat_minor": 2
}
